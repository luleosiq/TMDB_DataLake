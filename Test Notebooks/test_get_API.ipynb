{
 "cells": [
  {
   "cell_type": "markdown",
   "metadata": {},
   "source": [
    "# Chamando a API e criando um arquivo com os dados consolidados"
   ]
  },
  {
   "cell_type": "code",
   "execution_count": null,
   "metadata": {},
   "outputs": [],
   "source": [
    "!pip install boto3"
   ]
  },
  {
   "cell_type": "code",
   "execution_count": null,
   "metadata": {},
   "outputs": [],
   "source": [
    "# Importando bibliotecas\n",
    "import requests \n",
    "import json\n",
    "from datetime import datetime\n",
    "\n",
    "\n",
    "# Chave da API TMDB \n",
    "tmdb_key = \"8c5f35830f92bd224f2e6e8edbb13e92\""
   ]
  },
  {
   "cell_type": "markdown",
   "metadata": {},
   "source": [
    "## API - get_now_playing"
   ]
  },
  {
   "cell_type": "code",
   "execution_count": null,
   "metadata": {},
   "outputs": [],
   "source": [
    "dt_timestamp = datetime.today().strftime('%d_%m_%y')\n",
    "\n",
    "# Pegar numero total de paginas que serão appendadas\n",
    "page = 1\n",
    "get_now_playing_api = f\"https://api.themoviedb.org/3/movie/now_playing?api_key={tmdb_key}&page={page}\"\n",
    "get_now_playing_api_content = requests.get(get_now_playing_api).json()\n",
    "total_pages = get_now_playing_api_content[\"total_pages\"] \n",
    "\n",
    "# Itera por todas as paginas da API e junta resultados em um unico arquivo.\n",
    "while page <= total_pages:\n",
    "    page += 1\n",
    "    get_now_playing_api = f\"https://api.themoviedb.org/3/movie/now_playing?api_key={tmdb_key}&page={page}\"\n",
    "    loop_api = requests.get(get_now_playing_api).json()\n",
    "    for i in loop_api[\"results\"]: \n",
    "        with open(f'em_cartaz_{dt_timestamp}.json', 'a') as json_file:\n",
    "            json.dump(i, json_file)\n",
    "            json_file.write('\\n')"
   ]
  },
  {
   "cell_type": "markdown",
   "metadata": {},
   "source": [
    "## API - get_upcoming"
   ]
  },
  {
   "cell_type": "code",
   "execution_count": null,
   "metadata": {},
   "outputs": [],
   "source": [
    "dt_timestamp = datetime.today().strftime('%d_%m_%y')\n",
    "\n",
    "# Pegar numero total de paginas que serão appendadas\n",
    "page = 1 \n",
    "get_upcoming_api = f\"https://api.themoviedb.org/3/movie/upcoming?api_key={tmdb_key}&page={page}\"\n",
    "get_upcoming_api_content = requests.get(get_upcoming_api).json()\n",
    "total_pages = get_upcoming_api_content[\"total_pages\"] \n",
    "\n",
    "# Itera por todas as paginas da API e junbta resultados em um unico arquivo.\n",
    "page = 1\n",
    "while page <= total_pages:\n",
    "    page += 1\n",
    "    get_upcoming_api = f\"https://api.themoviedb.org/3/movie/upcoming?api_key={tmdb_key}&page={page}\"\n",
    "    loop_api = requests.get(get_upcoming_api).json()\n",
    "    for i in loop_api[\"results\"]: \n",
    "        with open(f'upcoming_{dt_timestamp}.json', 'a') as json_file:\n",
    "            json.dump(i, json_file)\n",
    "            json_file.write('\\n')"
   ]
  },
  {
   "cell_type": "markdown",
   "metadata": {},
   "source": [
    "## API - get_movie_details"
   ]
  },
  {
   "cell_type": "code",
   "execution_count": null,
   "metadata": {},
   "outputs": [],
   "source": [
    "dt_timestamp = datetime.today().strftime('%d_%m_%y')\n",
    "\n",
    "movie_id_list = [1, 2, 3, 4, 5]\n",
    "\n",
    "# Itera por todas os filmes da lista e junta resultados em um unico arquivo.\n",
    "for movie_id in movie_id_list:\n",
    "    get_movie_details_api = f\"https://api.themoviedb.org/3/movie/{movie_id}?api_key={tmdb_key}&language=en-US\"\n",
    "    api_call_content = requests.get(get_movie_details_api).json()\n",
    "    with open(f'movie_details_{dt_timestamp}.json', 'a') as json_file: \n",
    "        json.dump(api_call_content, json_file)\n",
    "        json_file.write('\\n')"
   ]
  },
  {
   "cell_type": "markdown",
   "metadata": {},
   "source": [
    "## API - get_movie_credits"
   ]
  },
  {
   "cell_type": "code",
   "execution_count": null,
   "metadata": {},
   "outputs": [],
   "source": [
    "dt_timestamp = datetime.today().strftime('%d_%m_%y')\n",
    "\n",
    "movie_id = 0\n",
    "\n",
    "movie_id_list = [1, 2, 3, 4, 5]\n",
    "\n",
    "# Itera por todas os filmes da lista e junta resultados em um unico arquivo.\n",
    "for movie_id in movie_id_list:\n",
    "    get_movie_credits_api = f\"https://api.themoviedb.org/3/movie/{movie_id}?api_key={tmdb_key}&language=en-US\"\n",
    "    api_call_content = requests.get(get_movie_credits_api).json()\n",
    "    with open(f'movie_credits_{dt_timestamp}.json', 'a') as json_file: \n",
    "        json.dump(api_call_content, json_file)\n",
    "        json_file.write('\\n')"
   ]
  },
  {
   "cell_type": "markdown",
   "metadata": {},
   "source": [
    "## API - get_person_details"
   ]
  },
  {
   "cell_type": "code",
   "execution_count": null,
   "metadata": {},
   "outputs": [],
   "source": [
    "dt_timestamp = datetime.today().strftime('%d_%m_%y')\n",
    "\n",
    "person_id = 0 \n",
    "\n",
    "person_id_list = [1, 2, 3, 4, 5]\n",
    "\n",
    "# Itera por todas os filmes da lista e junta resultados em um unico arquivo.\n",
    "for person_id in person_id_list:\n",
    "    get_movie_credits_api = f\"https://api.themoviedb.org/3/person/{person_id}/credits?api_key={tmdb_key}&language=en-US\"\n",
    "    api_call_content = requests.get(get_movie_credits_api).json()\n",
    "    with open(f'person_details_{dt_timestamp}.json', 'a') as json_file: \n",
    "        json.dump(api_call_content, json_file)\n",
    "        json_file.write('\\n')"
   ]
  },
  {
   "cell_type": "markdown",
   "metadata": {},
   "source": [
    "# Lendo o arquivo consolidado"
   ]
  },
  {
   "cell_type": "code",
   "execution_count": null,
   "metadata": {},
   "outputs": [],
   "source": [
    "jsonTest = []\n",
    "with open(f'em_cartaz_{dt_timestamp}.json') as json_file:\n",
    "    for i in json_file:\n",
    "        json.loads(i)\n",
    "      "
   ]
  },
  {
   "cell_type": "code",
   "execution_count": null,
   "metadata": {},
   "outputs": [],
   "source": [
    "get_upcoming_api = f\"https://api.themoviedb.org/3/movie/upcoming?{tmdb_key}&page={page}\"\n",
    "get_upcoming_api"
   ]
  },
  {
   "cell_type": "markdown",
   "metadata": {},
   "source": [
    "# Salvando dados em uma bucket do S3"
   ]
  },
  {
   "cell_type": "code",
   "execution_count": 1,
   "metadata": {},
   "outputs": [],
   "source": [
    "import pandas as pd\n",
    "import boto3\n",
    "import json"
   ]
  },
  {
   "cell_type": "code",
   "execution_count": 3,
   "metadata": {},
   "outputs": [],
   "source": [
    "import configparser\n",
    "config = configparser.ConfigParser()\n",
    "config.read_file(open('dwh.cfg'))\n",
    "\n",
    "KEY                    = config.get('AWS','KEY')\n",
    "SECRET                 = config.get('AWS','SECRET')"
   ]
  },
  {
   "cell_type": "code",
   "execution_count": 4,
   "metadata": {},
   "outputs": [],
   "source": [
    "from boto3.s3.transfer import S3Transfer\n",
    "import boto3\n",
    "#have all the variables populated which are required below\n",
    "client = boto3.client('s3', aws_access_key_id=KEY, aws_secret_access_key=SECRET)\n",
    "transfer = S3Transfer(client)\n",
    "transfer.upload_file('em_cartaz_30_08_20.json', 'tmdb-lake-s3', 'em_cartaz_30_08_20.json')\n",
    "\n"
   ]
  }
 ],
 "metadata": {
  "kernelspec": {
   "display_name": "Python 3",
   "language": "python",
   "name": "python3"
  },
  "language_info": {
   "codemirror_mode": {
    "name": "ipython",
    "version": 3
   },
   "file_extension": ".py",
   "mimetype": "text/x-python",
   "name": "python",
   "nbconvert_exporter": "python",
   "pygments_lexer": "ipython3",
   "version": "3.7.3"
  }
 },
 "nbformat": 4,
 "nbformat_minor": 2
}
