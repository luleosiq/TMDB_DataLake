{
 "cells": [
  {
   "cell_type": "markdown",
   "metadata": {},
   "source": [
    "# Chamando a API e criando um arquivo com os dados consolidados"
   ]
  },
  {
   "cell_type": "code",
   "execution_count": 14,
   "metadata": {},
   "outputs": [],
   "source": [
    "# Importando bibliotecas\n",
    "import requests \n",
    "import json\n",
    "from datetime import datetime\n",
    "\n",
    "# Chave da API TMDB \n",
    "tmdb_key = \"8c5f35830f92bd224f2e6e8edbb13e92\""
   ]
  },
  {
   "cell_type": "markdown",
   "metadata": {},
   "source": [
    "## API - get_now_playing"
   ]
  },
  {
   "cell_type": "code",
   "execution_count": 11,
   "metadata": {},
   "outputs": [],
   "source": [
    "dt_timestamp = datetime.today().strftime('%d_%m_%y')\n",
    "\n",
    "# Pegar numero total de paginas que serão appendadas\n",
    "total_pages = em_cartaz_dict[\"total_pages\"]\n",
    "\n",
    "# Itera por todas aas paginas da API e junbta resultados em um unico arquivo.\n",
    "page = 1\n",
    "while page <= total_pages:\n",
    "    get_now_playing_api = f\"https://api.themoviedb.org/3/movie/now_playing?api_key={tmdb_key}&page={page}\"\n",
    "    page += 1\n",
    "    loop_api = requests.get(get_now_playing_api).json()\n",
    "    for i in loop_api[\"results\"]: \n",
    "        with open(f'em_cartaz_{dt_timestamp}.json', 'a') as json_file:\n",
    "            json.dump(i, json_file)\n",
    "            json_file.write('\\n')"
   ]
  },
  {
   "cell_type": "markdown",
   "metadata": {},
   "source": [
    "## API - get_upcoming"
   ]
  },
  {
   "cell_type": "code",
   "execution_count": 18,
   "metadata": {},
   "outputs": [],
   "source": [
    "dt_timestamp = datetime.today().strftime('%d_%m_%y')\n",
    "\n",
    "# Pegar numero total de paginas que serão appendadas\n",
    "total_pages = em_cartaz_dict[\"total_pages\"]\n",
    "\n",
    "# Itera por todas aas paginas da API e junbta resultados em um unico arquivo.\n",
    "page = 1\n",
    "while page <= total_pages:\n",
    "    get_upcoming_api = f\"https://api.themoviedb.org/3/movie/upcoming?api_key={tmdb_key}&page={page}\"\n",
    "    page += 1\n",
    "    loop_api = requests.get(get_upcoming_api).json()\n",
    "    for i in loop_api[\"results\"]: \n",
    "        with open(f'upcoming_{dt_timestamp}.json', 'a') as json_file:\n",
    "            json.dump(i, json_file)\n",
    "            json_file.write('\\n')"
   ]
  },
  {
   "cell_type": "markdown",
   "metadata": {},
   "source": [
    "# Lendo o arquivo consolidado"
   ]
  },
  {
   "cell_type": "code",
   "execution_count": 5,
   "metadata": {},
   "outputs": [],
   "source": [
    "jsonTest = []\n",
    "with open(f'em_cartaz_{dt_timestamp}.json') as json_file:\n",
    "    for i in json_file:\n",
    "        json.loads(i)\n",
    "      "
   ]
  },
  {
   "cell_type": "code",
   "execution_count": 17,
   "metadata": {},
   "outputs": [
    {
     "data": {
      "text/plain": [
       "'https://api.themoviedb.org/3/movie/upcoming?8c5f35830f92bd224f2e6e8edbb13e92&page=2'"
      ]
     },
     "execution_count": 17,
     "metadata": {},
     "output_type": "execute_result"
    }
   ],
   "source": [
    "get_upcoming_api = f\"https://api.themoviedb.org/3/movie/upcoming?{tmdb_key}&page={page}\"\n",
    "get_upcoming_api"
   ]
  }
 ],
 "metadata": {
  "kernelspec": {
   "display_name": "Python 3",
   "language": "python",
   "name": "python3"
  },
  "language_info": {
   "codemirror_mode": {
    "name": "ipython",
    "version": 3
   },
   "file_extension": ".py",
   "mimetype": "text/x-python",
   "name": "python",
   "nbconvert_exporter": "python",
   "pygments_lexer": "ipython3",
   "version": "3.7.3"
  }
 },
 "nbformat": 4,
 "nbformat_minor": 2
}
