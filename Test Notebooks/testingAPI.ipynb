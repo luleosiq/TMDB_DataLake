{
 "cells": [
  {
   "cell_type": "markdown",
   "metadata": {},
   "source": [
    "# Chamando a API e criando um arquivo com os dados consolidados"
   ]
  },
  {
   "cell_type": "code",
   "execution_count": 1,
   "metadata": {},
   "outputs": [],
   "source": [
    "# Importando bibliotecas\n",
    "import requests \n",
    "import json\n",
    "from datetime import datetime"
   ]
  },
  {
   "cell_type": "code",
   "execution_count": 2,
   "metadata": {},
   "outputs": [
    {
     "data": {
      "text/plain": [
       "'https://api.themoviedb.org/3/movie/now_playing?api_key=8c5f35830f92bd224f2e6e8edbb13e92&page=1'"
      ]
     },
     "execution_count": 2,
     "metadata": {},
     "output_type": "execute_result"
    }
   ],
   "source": [
    "# Chave da API TMDB \n",
    "tmdb_key = \"8c5f35830f92bd224f2e6e8edbb13e92\"\n",
    "page=1\n",
    "# Variaveis para chamada da API\n",
    "#get_now_playing_api = f\"https://api.themoviedb.org/3/movie/now_playing?api_key={tmdb_key}&page={page}\"\n",
    "get_now_playing_api = f\"https://api.themoviedb.org/3/movie/now_playing?api_key={tmdb_key}&page={page}\"\n",
    "get_now_playing_api"
   ]
  },
  {
   "cell_type": "code",
   "execution_count": 3,
   "metadata": {},
   "outputs": [],
   "source": [
    "em_cartaz_dict = requests.get(get_now_playing_api).json()\n",
    "\n",
    "# Pegar numero total de paginas que serão appendadas\n",
    "total_pages = em_cartaz_dict[\"total_pages\"]"
   ]
  },
  {
   "cell_type": "code",
   "execution_count": 4,
   "metadata": {},
   "outputs": [
    {
     "name": "stdout",
     "output_type": "stream",
     "text": [
      "1\n",
      "https://api.themoviedb.org/3/movie/now_playing?api_key=8c5f35830f92bd224f2e6e8edbb13e92&page=1\n",
      "2\n",
      "https://api.themoviedb.org/3/movie/now_playing?api_key=8c5f35830f92bd224f2e6e8edbb13e92&page=2\n",
      "3\n",
      "https://api.themoviedb.org/3/movie/now_playing?api_key=8c5f35830f92bd224f2e6e8edbb13e92&page=3\n",
      "4\n",
      "https://api.themoviedb.org/3/movie/now_playing?api_key=8c5f35830f92bd224f2e6e8edbb13e92&page=4\n",
      "5\n",
      "https://api.themoviedb.org/3/movie/now_playing?api_key=8c5f35830f92bd224f2e6e8edbb13e92&page=5\n",
      "6\n",
      "https://api.themoviedb.org/3/movie/now_playing?api_key=8c5f35830f92bd224f2e6e8edbb13e92&page=6\n",
      "7\n",
      "https://api.themoviedb.org/3/movie/now_playing?api_key=8c5f35830f92bd224f2e6e8edbb13e92&page=7\n",
      "8\n",
      "https://api.themoviedb.org/3/movie/now_playing?api_key=8c5f35830f92bd224f2e6e8edbb13e92&page=8\n",
      "9\n",
      "https://api.themoviedb.org/3/movie/now_playing?api_key=8c5f35830f92bd224f2e6e8edbb13e92&page=9\n",
      "10\n",
      "https://api.themoviedb.org/3/movie/now_playing?api_key=8c5f35830f92bd224f2e6e8edbb13e92&page=10\n",
      "11\n",
      "https://api.themoviedb.org/3/movie/now_playing?api_key=8c5f35830f92bd224f2e6e8edbb13e92&page=11\n",
      "12\n",
      "https://api.themoviedb.org/3/movie/now_playing?api_key=8c5f35830f92bd224f2e6e8edbb13e92&page=12\n",
      "13\n",
      "https://api.themoviedb.org/3/movie/now_playing?api_key=8c5f35830f92bd224f2e6e8edbb13e92&page=13\n",
      "14\n",
      "https://api.themoviedb.org/3/movie/now_playing?api_key=8c5f35830f92bd224f2e6e8edbb13e92&page=14\n",
      "15\n",
      "https://api.themoviedb.org/3/movie/now_playing?api_key=8c5f35830f92bd224f2e6e8edbb13e92&page=15\n",
      "16\n",
      "https://api.themoviedb.org/3/movie/now_playing?api_key=8c5f35830f92bd224f2e6e8edbb13e92&page=16\n",
      "17\n",
      "https://api.themoviedb.org/3/movie/now_playing?api_key=8c5f35830f92bd224f2e6e8edbb13e92&page=17\n",
      "18\n",
      "https://api.themoviedb.org/3/movie/now_playing?api_key=8c5f35830f92bd224f2e6e8edbb13e92&page=18\n",
      "19\n",
      "https://api.themoviedb.org/3/movie/now_playing?api_key=8c5f35830f92bd224f2e6e8edbb13e92&page=19\n",
      "20\n",
      "https://api.themoviedb.org/3/movie/now_playing?api_key=8c5f35830f92bd224f2e6e8edbb13e92&page=20\n",
      "21\n",
      "https://api.themoviedb.org/3/movie/now_playing?api_key=8c5f35830f92bd224f2e6e8edbb13e92&page=21\n",
      "22\n",
      "https://api.themoviedb.org/3/movie/now_playing?api_key=8c5f35830f92bd224f2e6e8edbb13e92&page=22\n",
      "23\n",
      "https://api.themoviedb.org/3/movie/now_playing?api_key=8c5f35830f92bd224f2e6e8edbb13e92&page=23\n",
      "24\n",
      "https://api.themoviedb.org/3/movie/now_playing?api_key=8c5f35830f92bd224f2e6e8edbb13e92&page=24\n",
      "25\n",
      "https://api.themoviedb.org/3/movie/now_playing?api_key=8c5f35830f92bd224f2e6e8edbb13e92&page=25\n",
      "26\n",
      "https://api.themoviedb.org/3/movie/now_playing?api_key=8c5f35830f92bd224f2e6e8edbb13e92&page=26\n",
      "27\n",
      "https://api.themoviedb.org/3/movie/now_playing?api_key=8c5f35830f92bd224f2e6e8edbb13e92&page=27\n",
      "28\n",
      "https://api.themoviedb.org/3/movie/now_playing?api_key=8c5f35830f92bd224f2e6e8edbb13e92&page=28\n",
      "29\n",
      "https://api.themoviedb.org/3/movie/now_playing?api_key=8c5f35830f92bd224f2e6e8edbb13e92&page=29\n",
      "30\n",
      "https://api.themoviedb.org/3/movie/now_playing?api_key=8c5f35830f92bd224f2e6e8edbb13e92&page=30\n",
      "31\n",
      "https://api.themoviedb.org/3/movie/now_playing?api_key=8c5f35830f92bd224f2e6e8edbb13e92&page=31\n",
      "32\n",
      "https://api.themoviedb.org/3/movie/now_playing?api_key=8c5f35830f92bd224f2e6e8edbb13e92&page=32\n",
      "33\n",
      "https://api.themoviedb.org/3/movie/now_playing?api_key=8c5f35830f92bd224f2e6e8edbb13e92&page=33\n",
      "34\n",
      "https://api.themoviedb.org/3/movie/now_playing?api_key=8c5f35830f92bd224f2e6e8edbb13e92&page=34\n",
      "35\n",
      "https://api.themoviedb.org/3/movie/now_playing?api_key=8c5f35830f92bd224f2e6e8edbb13e92&page=35\n",
      "36\n",
      "https://api.themoviedb.org/3/movie/now_playing?api_key=8c5f35830f92bd224f2e6e8edbb13e92&page=36\n",
      "37\n",
      "https://api.themoviedb.org/3/movie/now_playing?api_key=8c5f35830f92bd224f2e6e8edbb13e92&page=37\n",
      "38\n",
      "https://api.themoviedb.org/3/movie/now_playing?api_key=8c5f35830f92bd224f2e6e8edbb13e92&page=38\n",
      "39\n",
      "https://api.themoviedb.org/3/movie/now_playing?api_key=8c5f35830f92bd224f2e6e8edbb13e92&page=39\n"
     ]
    }
   ],
   "source": [
    "page = 1\n",
    "dt_timestamp = datetime.today().strftime('%d_%m_%y')\n",
    "\n",
    "# Itera por todas aas paginas da API, juntando todos os resultados \n",
    "# em um unico arquivo.\n",
    "while page <= total_pages:\n",
    "    print(page)\n",
    "    get_now_playing_api = f\"https://api.themoviedb.org/3/movie/now_playing?api_key={tmdb_key}&page={page}\"\n",
    "    page += 1\n",
    "    loop_api = requests.get(get_now_playing_api).json()\n",
    "    loop_api = loop_api[\"results\"]\n",
    "    \n",
    "    print(get_now_playing_api)\n",
    "    \n",
    "    \n",
    "    with open(f'em_cartaz_{dt_timestamp}.json', 'a') as json_file:\n",
    "        json.dump(loop_api, json_file)"
   ]
  },
  {
   "cell_type": "markdown",
   "metadata": {},
   "source": [
    "# Lendo o arquivo consolidado"
   ]
  },
  {
   "cell_type": "code",
   "execution_count": 5,
   "metadata": {},
   "outputs": [
    {
     "ename": "KeyError",
     "evalue": "'resul'",
     "output_type": "error",
     "traceback": [
      "\u001b[1;31m---------------------------------------------------------------------------\u001b[0m",
      "\u001b[1;31mKeyError\u001b[0m                                  Traceback (most recent call last)",
      "\u001b[1;32m<ipython-input-5-4e6fc920a70e>\u001b[0m in \u001b[0;36m<module>\u001b[1;34m\u001b[0m\n\u001b[0;32m      1\u001b[0m \u001b[0mloop_api\u001b[0m \u001b[1;33m=\u001b[0m \u001b[0mrequests\u001b[0m\u001b[1;33m.\u001b[0m\u001b[0mget\u001b[0m\u001b[1;33m(\u001b[0m\u001b[0mget_now_playing_api\u001b[0m\u001b[1;33m)\u001b[0m\u001b[1;33m.\u001b[0m\u001b[0mjson\u001b[0m\u001b[1;33m(\u001b[0m\u001b[1;33m)\u001b[0m\u001b[1;33m\u001b[0m\u001b[1;33m\u001b[0m\u001b[0m\n\u001b[1;32m----> 2\u001b[1;33m \u001b[0mloop_api\u001b[0m \u001b[1;33m=\u001b[0m \u001b[0mloop_api\u001b[0m\u001b[1;33m[\u001b[0m\u001b[1;34m\"resul\"\u001b[0m\u001b[1;33m]\u001b[0m\u001b[1;33m\u001b[0m\u001b[1;33m\u001b[0m\u001b[0m\n\u001b[0m\u001b[0;32m      3\u001b[0m \u001b[0mloop_api\u001b[0m\u001b[1;33m\u001b[0m\u001b[1;33m\u001b[0m\u001b[0m\n",
      "\u001b[1;31mKeyError\u001b[0m: 'resul'"
     ]
    }
   ],
   "source": [
    "loop_api = requests.get(get_now_playing_api).json()\n",
    "loop_api = loop_api[\"resul\"]\n",
    "loop_api"
   ]
  }
 ],
 "metadata": {
  "kernelspec": {
   "display_name": "Python 3",
   "language": "python",
   "name": "python3"
  },
  "language_info": {
   "codemirror_mode": {
    "name": "ipython",
    "version": 3
   },
   "file_extension": ".py",
   "mimetype": "text/x-python",
   "name": "python",
   "nbconvert_exporter": "python",
   "pygments_lexer": "ipython3",
   "version": "3.7.3"
  }
 },
 "nbformat": 4,
 "nbformat_minor": 2
}
