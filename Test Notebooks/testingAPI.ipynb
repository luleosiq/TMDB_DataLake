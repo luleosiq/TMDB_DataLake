{
 "cells": [
  {
   "cell_type": "code",
   "execution_count": 6,
   "metadata": {},
   "outputs": [],
   "source": [
    "# Importando bibliotecas\n",
    "import requests \n",
    "import json"
   ]
  },
  {
   "cell_type": "code",
   "execution_count": 10,
   "metadata": {},
   "outputs": [],
   "source": [
    "# Chave da API TMDB \n",
    "tmdb_key = \"8c5f35830f92bd224f2e6e8edbb13e92\"\n",
    "\n",
    "# Variaveis para chamada da API\n",
    "get_now_playing_api = f\"https://api.themoviedb.org/3/movie/now_playing?api_key={tmdb_key}&page={page}\""
   ]
  },
  {
   "cell_type": "code",
   "execution_count": 41,
   "metadata": {},
   "outputs": [
    {
     "data": {
      "text/plain": [
       "38"
      ]
     },
     "execution_count": 41,
     "metadata": {},
     "output_type": "execute_result"
    }
   ],
   "source": [
    "em_cartaz_dict = requests.get(get_now_playing_api).json()\n",
    "\n",
    "# Pegar numero total de paginas que serão appendadas\n",
    "total_pages = em_cartaz_dict[\"total_pages\"]\n",
    "total_pages"
   ]
  },
  {
   "cell_type": "code",
   "execution_count": 69,
   "metadata": {},
   "outputs": [
    {
     "name": "stdout",
     "output_type": "stream",
     "text": [
      "[{'popularity': 108.944, 'vote_count': 80, 'video': False, 'poster_path': '/5MSDwUcqnGodFTvtlLiLKK0XKS.jpg', 'id': 521034, 'adult': False, 'backdrop_path': '/8PK4X8U3C79ilzIjNTkTgjmc4js.jpg', 'original_language': 'en', 'original_title': 'The Secret Garden', 'genre_ids': [18, 14, 10751], 'title': 'The Secret Garden', 'vote_average': 7.4, 'overview': 'Mary Lennox is born in India to wealthy British parents who never wanted her. When her parents suddenly die, she is sent back to England to live with her uncle. She meets her sickly cousin, and the two children find a wondrous secret garden lost in the grounds of Misselthwaite Manor.', 'release_date': '2020-07-08'}, {'popularity': 84.403, 'vote_count': 74, 'video': False, 'poster_path': '/zQFjMmE3K9AX5QrBL1SXIxYQ9jz.jpg', 'id': 579583, 'adult': False, 'backdrop_path': '/5rwcd24GGltKiqdPT4G2dmchLr9.jpg', 'original_language': 'en', 'original_title': 'The King of Staten Island', 'genre_ids': [35, 18], 'title': 'The King of Staten Island', 'vote_average': 6.8, 'overview': 'Scott has been a case of arrested development ever since his firefighter father died when he was seven. He’s now reached his mid-20s having achieved little, chasing a dream of becoming a tattoo artist that seems far out of reach. As his ambitious younger sister heads off to college, Scott is still living with his exhausted ER nurse mother and spends his days smoking weed, hanging with the guys — Oscar, Igor and Richie — and secretly hooking up with his childhood friend Kelsey. But when his mother starts dating a loudmouth firefighter named Ray, it sets off a chain of events that will force Scott to grapple with his grief and take his first tentative steps toward moving forward in life.', 'release_date': '2020-07-22'}, {'popularity': 79.608, 'vote_count': 419, 'video': False, 'poster_path': '/jHo2M1OiH9Re33jYtUQdfzPeUkx.jpg', 'id': 385103, 'adult': False, 'backdrop_path': '/fKtYXUhX5fxMxzQfyUcQW9Shik6.jpg', 'original_language': 'en', 'original_title': 'Scoob!', 'genre_ids': [12, 16, 35, 10751], 'title': 'Scoob!', 'vote_average': 7.5, 'overview': 'In Scooby-Doo’s greatest adventure yet, see the never-before told story of how lifelong friends Scooby and Shaggy first met and how they joined forces with young detectives Fred, Velma, and Daphne to form the famous Mystery Inc. Now, with hundreds of cases solved, Scooby and the gang face their biggest, toughest mystery ever: an evil plot to unleash the ghost dog Cerberus upon the world. As they race to stop this global “dogpocalypse,” the gang discovers that Scooby has a secret legacy and an epic destiny greater than anyone ever imagined.', 'release_date': '2020-07-08'}, {'popularity': 79.083, 'vote_count': 66, 'video': False, 'poster_path': '/3eg0kGC2Xh0vhydJHO37Sp4cmMt.jpg', 'id': 531499, 'adult': False, 'backdrop_path': '/zogWnCSztU8xvabaepQnAwsOtOt.jpg', 'original_language': 'en', 'original_title': 'The Tax Collector', 'genre_ids': [28, 80, 18, 53], 'title': 'The Tax Collector', 'vote_average': 5.8, 'overview': 'David Cuevas is a family man who works as a gangland tax collector for high ranking Los Angeles gang members. He makes collections across the city with his partner Creeper making sure people pay up or will see retaliation. An old threat returns to Los Angeles that puts everything David loves in harm’s way.', 'release_date': '2020-08-07'}, {'popularity': 78.475, 'vote_count': 26811, 'video': False, 'poster_path': '/9gk7adHYeDvHkCSEqAvQNLV5Uge.jpg', 'id': 27205, 'adult': False, 'backdrop_path': '/s3TBrRGB1iav7gFOCNx3H31MoES.jpg', 'original_language': 'en', 'original_title': 'Inception', 'genre_ids': [28, 12, 878], 'title': 'Inception', 'vote_average': 8.3, 'overview': 'Cobb, a skilled thief who commits corporate espionage by infiltrating the subconscious of his targets is offered a chance to regain his old life as payment for a task considered to be impossible: \"inception\", the implantation of another person\\'s idea into a target\\'s subconscious.', 'release_date': '2010-07-15'}, {'popularity': 78.327, 'vote_count': 4, 'video': False, 'poster_path': '/jYoRYxB56YU7CmqU4BfDWIuHZUX.jpg', 'id': 390635, 'adult': False, 'backdrop_path': '/mWb5UjxCmevMlvbxnXc9Y3zc00w.jpg', 'original_language': 'ja', 'original_title': \"劇場版 Fate／stay night [Heaven's Feel] III.spring song\", 'genre_ids': [16], 'title': \"Fate/Stay Night: Heaven's Feel III. Spring Song\", 'vote_average': 5, 'overview': 'Theatrical-release adaptation of the visual novel \"Fate/stay night\", following the third and final route. (Final part of a trilogy.)', 'release_date': '2020-08-15'}, {'popularity': 64.965, 'vote_count': 24, 'video': False, 'poster_path': '/dKjD3DTZjRI3Ipkf7Oz5zAILnwD.jpg', 'id': 659991, 'adult': False, 'backdrop_path': '/5nRyaVklxyA9OkxqZaPv1KBRqpd.jpg', 'original_language': 'en', 'original_title': 'Made in Italy', 'genre_ids': [35, 18], 'title': 'Made in Italy', 'vote_average': 6.2, 'overview': 'A bohemian artist travels from London to Italy with his estranged son to sell the house they inherited from his late wife.', 'release_date': '2020-08-06'}, {'popularity': 60.353, 'vote_count': 8786, 'video': False, 'poster_path': '/7IiTTgloJzvGI1TAYymCfbfl3vT.jpg', 'id': 496243, 'adult': False, 'backdrop_path': '/ApiBzeaa95TNYliSbQ8pJv4Fje7.jpg', 'original_language': 'ko', 'original_title': '기생충', 'genre_ids': [35, 18, 53], 'title': 'Parasite', 'vote_average': 8.5, 'overview': \"All unemployed, Ki-taek's family takes peculiar interest in the wealthy and glamorous Parks for their livelihood until they get entangled in an unexpected incident.\", 'release_date': '2019-05-30'}, {'popularity': 55.292, 'id': 517412, 'video': False, 'vote_count': 5, 'vote_average': 7, 'title': 'Tesla', 'release_date': '2020-08-14', 'original_language': 'en', 'original_title': 'Tesla', 'genre_ids': [36, 18], 'backdrop_path': '/4tphk3VbqoRtCVuOzlEQxUrpR6c.jpg', 'adult': False, 'overview': 'The story of the Promethean struggles of Nikola Tesla, as he attempts to transcend entrenched technology—including his own previous work—by pioneering a system of wireless energy that would change the world.', 'poster_path': '/v0guO0krvyz8IfKGxEje04LVM9d.jpg'}, {'popularity': 53.66, 'vote_count': 50, 'video': False, 'poster_path': '/95S6PinQIvVe4uJAd82a2iGZ0rA.jpg', 'id': 522444, 'adult': False, 'backdrop_path': '/fRrpOILyXuWaWLmqF7kXeMVwITQ.jpg', 'original_language': 'en', 'original_title': 'Black Water: Abyss', 'genre_ids': [12, 27, 53], 'title': 'Black Water: Abyss', 'vote_average': 5.6, 'overview': 'An adventure-loving couple convince their friends to explore a remote, uncharted cave system in the forests of Northern Australia. With a tropical storm approaching, they abseil into the mouth of the cave, but when the caves start to flood, tensions rise as oxygen levels fall and the friends find themselves trapped. Unknown to them, the storm has also brought in a pack of dangerous and hungry crocodiles.', 'release_date': '2020-07-09'}, {'popularity': 53.299, 'vote_count': 6112, 'video': False, 'poster_path': '/iZf0KyrE25z1sage4SYFLCCrMi9.jpg', 'id': 530915, 'adult': False, 'backdrop_path': '/cqa3sa4c4jevgnEJwq3CMF8UfTG.jpg', 'original_language': 'en', 'original_title': '1917', 'genre_ids': [28, 18, 36, 10752], 'title': '1917', 'vote_average': 8, 'overview': 'At the height of the First World War, two young British soldiers must cross enemy territory and deliver a message that will stop a deadly attack on hundreds of soldiers.', 'release_date': '2019-12-25'}, {'popularity': 53.033, 'vote_count': 17754, 'video': False, 'poster_path': '/wuMc08IPKEatf9rnMNXvIDxqP4W.jpg', 'id': 671, 'adult': False, 'backdrop_path': '/hziiv14OpD73u9gAak4XDDfBKa2.jpg', 'original_language': 'en', 'original_title': \"Harry Potter and the Philosopher's Stone\", 'genre_ids': [12, 14, 10751], 'title': \"Harry Potter and the Philosopher's Stone\", 'vote_average': 7.9, 'overview': \"Harry Potter has lived under the stairs at his aunt and uncle's house his whole life. But on his 11th birthday, he learns he's a powerful wizard -- with a place waiting for him at the Hogwarts School of Witchcraft and Wizardry. As he learns to harness his newfound powers with the help of the school's kindly headmaster, Harry uncovers the truth about his parents' deaths -- and about the villain who's to blame.\", 'release_date': '2001-11-16'}, {'popularity': 48.543, 'vote_count': 1256, 'video': False, 'poster_path': '/wxPhn4ef1EAo5njxwBkAEVrlJJG.jpg', 'id': 514847, 'adult': False, 'backdrop_path': '/qfQ78ZKiouoM2yhAnfNblp9ijQE.jpg', 'original_language': 'en', 'original_title': 'The Hunt', 'genre_ids': [28, 27, 53], 'title': 'The Hunt', 'vote_average': 6.6, 'overview': \"Twelve strangers wake up in a clearing. They don't know where they are—or how they got there. In the shadow of a dark internet conspiracy theory, ruthless elitists gather at a remote location to hunt humans for sport. But their master plan is about to be derailed when one of the hunted turns the tables on her pursuers.\", 'release_date': '2020-03-11'}, {'popularity': 47.579, 'vote_count': 68, 'video': False, 'poster_path': '/aQQW03qNC5O5N2C5XDAbvtywOVr.jpg', 'id': 594718, 'adult': False, 'backdrop_path': '/lGydLXSaDLxN8WoAdubHCnhAgfd.jpg', 'original_language': 'ru', 'original_title': 'Спутник', 'genre_ids': [18, 27, 878, 53], 'title': 'Sputnik', 'vote_average': 6.3, 'overview': 'At the height of the Cold War, a Soviet spacecraft crash lands after a mission gone awry, leaving the commander as its only survivor. After a renowned Russian psychologist is brought in to evaluate the commander’s mental state, it becomes clear that something dangerous may have come back to Earth with him…', 'release_date': '2020-04-16'}, {'popularity': 47.509, 'vote_count': 109, 'video': False, 'poster_path': '/3ynPnBXQVT2Y0s19fDIPlWKUlxH.jpg', 'id': 587496, 'adult': False, 'backdrop_path': '/2gBMBfmQvHeOQQ5PiKiuxVdGs77.jpg', 'original_language': 'en', 'original_title': 'The Rental', 'genre_ids': [18, 27, 53], 'title': 'The Rental', 'vote_average': 5.7, 'overview': 'Two couples on an oceanside getaway grow suspicious that the host of their seemingly perfect rental house may be spying on them. Before long, what should have been a celebratory weekend trip turns into something far more sinister.', 'release_date': '2020-07-23'}, {'popularity': 46.399, 'vote_count': 9, 'video': False, 'poster_path': '/hJUA4wfvw0A6l3niOfxourqpERA.jpg', 'id': 653598, 'adult': False, 'backdrop_path': '/nTyl9fqTQNtwh8BUTZ0WzKH16r7.jpg', 'original_language': 'en', 'original_title': 'Spree', 'genre_ids': [35, 27, 9648, 53], 'title': 'Spree', 'vote_average': 5.9, 'overview': 'Kurt Kunkle, a rideshare driver thirsty for followers, has figured out a deadly plan to go viral. As his disturbing livestream is absurdly embraced by the social media hellscape, a comedienne emerges as the only hope to stop this rampage.', 'release_date': '2020-08-14'}, {'popularity': 44.889, 'vote_count': 5392, 'video': False, 'poster_path': '/aQvJ5WPzZgYVDrxLX4R6cLJCEaQ.jpg', 'id': 454626, 'adult': False, 'backdrop_path': '/stmYfCUGd8Iy6kAMBr6AmWqx8Bq.jpg', 'original_language': 'en', 'original_title': 'Sonic the Hedgehog', 'genre_ids': [28, 35, 878, 10751], 'title': 'Sonic the Hedgehog', 'vote_average': 7.5, 'overview': 'Based on the global blockbuster videogame franchise from Sega, Sonic the Hedgehog tells the story of the world’s speediest hedgehog as he embraces his new home on Earth. In this live-action adventure comedy, Sonic and his new best friend team up to defend the planet from the evil genius Dr. Robotnik and his plans for world domination.', 'release_date': '2020-02-12'}, {'popularity': 43.731, 'vote_count': 356, 'video': False, 'poster_path': '/MBiKqTsouYqAACLYNDadsjhhC0.jpg', 'id': 486589, 'adult': False, 'backdrop_path': '/bga3i5jcejBekr2FCGJga1fYCh.jpg', 'original_language': 'en', 'original_title': 'Red Shoes and the Seven Dwarfs', 'genre_ids': [16, 10749, 10751], 'title': 'Red Shoes and the Seven Dwarfs', 'vote_average': 7.3, 'overview': 'Princes who have been turned into Dwarfs seek the red shoes of a lady in order to break the spell, although it will not be easy.', 'release_date': '2019-07-25'}, {'popularity': 40.545, 'vote_count': 16, 'video': False, 'poster_path': '/27eA9xGba61LtKr7gJRnhtDDgEP.jpg', 'id': 651586, 'adult': False, 'backdrop_path': '/1iEDKZHREDetZcOoqioZewcHOw9.jpg', 'original_language': 'es', 'original_title': 'Superagente Makey', 'genre_ids': [28, 35], 'title': 'Superagente Makey', 'vote_average': 4.1, 'overview': 'Makey is a humble police officer that, unexpectedly, gets caught in the middle of a dangerous international drug operation in the Costa del Sol, Spain.', 'release_date': '2020-07-17'}, {'popularity': 40.537, 'vote_count': 70, 'video': False, 'poster_path': '/aVbqhqYtlxwEGihTEhewZAgDOCX.jpg', 'id': 489326, 'adult': False, 'backdrop_path': '/dFB6Tiy3z2xRLbnEUB5ocApT5xG.jpg', 'original_language': 'en', 'original_title': 'Mortal', 'genre_ids': [28, 12, 14], 'title': 'Mortal', 'vote_average': 6.9, 'overview': 'Fantasy adventure origin story about a young man discovering he has God-like powers based on ancient Norwegian mythology.', 'release_date': '2020-02-28'}]\n"
     ]
    }
   ],
   "source": [
    "page = 0\n",
    "# Itera por todas aas paginas da API, juntando todos os resultados \n",
    "# em um unico arquivo.\n",
    "while page < total_pages:\n",
    "    page += 1\n",
    "    loop_api = requests.get(get_now_playing_api).json()\n",
    "    loop_api = loop_api[\"results\"]\n",
    "    \n",
    "    with open('em_cartaz.json', 'a') as json_file:\n",
    "        json.dump(loop_api, json_file)\n",
    "    print(page)"
   ]
  },
  {
   "cell_type": "code",
   "execution_count": null,
   "metadata": {},
   "outputs": [],
   "source": [
    "with open('em_cartaz.json', 'a') as json_file:\n",
    "        json.dump(loop_api, json_file)\n",
    "    print(page)"
   ]
  }
 ],
 "metadata": {
  "kernelspec": {
   "display_name": "Python 3",
   "language": "python",
   "name": "python3"
  },
  "language_info": {
   "codemirror_mode": {
    "name": "ipython",
    "version": 3
   },
   "file_extension": ".py",
   "mimetype": "text/x-python",
   "name": "python",
   "nbconvert_exporter": "python",
   "pygments_lexer": "ipython3",
   "version": "3.7.3"
  }
 },
 "nbformat": 4,
 "nbformat_minor": 2
}
